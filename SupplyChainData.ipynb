{
  "nbformat": 4,
  "nbformat_minor": 0,
  "metadata": {
    "colab": {
      "provenance": [],
      "authorship_tag": "ABX9TyNXPQTfB79A2Jr0V0f3p20t",
      "include_colab_link": true
    },
    "kernelspec": {
      "name": "python3",
      "display_name": "Python 3"
    },
    "language_info": {
      "name": "python"
    }
  },
  "cells": [
    {
      "cell_type": "markdown",
      "metadata": {
        "id": "view-in-github",
        "colab_type": "text"
      },
      "source": [
        "<a href=\"https://colab.research.google.com/github/vighc/SupplyChainData/blob/main/SupplyChainData.ipynb\" target=\"_parent\"><img src=\"https://colab.research.google.com/assets/colab-badge.svg\" alt=\"Open In Colab\"/></a>"
      ]
    },
    {
      "cell_type": "code",
      "source": [
        "# Install require packages\n",
        "!pip install xlsxwriter\n",
        "!pip install openpyxl"
      ],
      "metadata": {
        "id": "JqrKyxKXFsxr",
        "colab": {
          "base_uri": "https://localhost:8080/"
        },
        "outputId": "aa9afd13-4bcb-48a1-b62c-1ad500abad79"
      },
      "execution_count": 1,
      "outputs": [
        {
          "output_type": "stream",
          "name": "stdout",
          "text": [
            "Collecting xlsxwriter\n",
            "  Downloading XlsxWriter-3.2.2-py3-none-any.whl.metadata (2.8 kB)\n",
            "Downloading XlsxWriter-3.2.2-py3-none-any.whl (165 kB)\n",
            "\u001b[?25l   \u001b[90m━━━━━━━━━━━━━━━━━━━━━━━━━━━━━━━━━━━━━━━━\u001b[0m \u001b[32m0.0/165.1 kB\u001b[0m \u001b[31m?\u001b[0m eta \u001b[36m-:--:--\u001b[0m\r\u001b[2K   \u001b[91m━━━━━━━━━━━━━━━━━━━━━━━━━━━━━━━━━━━━━━━\u001b[0m\u001b[91m╸\u001b[0m \u001b[32m163.8/165.1 kB\u001b[0m \u001b[31m5.2 MB/s\u001b[0m eta \u001b[36m0:00:01\u001b[0m\r\u001b[2K   \u001b[90m━━━━━━━━━━━━━━━━━━━━━━━━━━━━━━━━━━━━━━━━\u001b[0m \u001b[32m165.1/165.1 kB\u001b[0m \u001b[31m2.6 MB/s\u001b[0m eta \u001b[36m0:00:00\u001b[0m\n",
            "\u001b[?25hInstalling collected packages: xlsxwriter\n",
            "Successfully installed xlsxwriter-3.2.2\n",
            "Requirement already satisfied: openpyxl in /usr/local/lib/python3.11/dist-packages (3.1.5)\n",
            "Requirement already satisfied: et-xmlfile in /usr/local/lib/python3.11/dist-packages (from openpyxl) (2.0.0)\n"
          ]
        }
      ]
    },
    {
      "cell_type": "code",
      "source": [
        "# Download [Pan Pacific -Input Data.xlsx] from Git\n",
        "!wget https://raw.githubusercontent.com/vighc/SupplyChainData/main/Pan%20Pacific%20-Input%20Data.xlsx"
      ],
      "metadata": {
        "id": "G8DMupwePWsv",
        "colab": {
          "base_uri": "https://localhost:8080/"
        },
        "outputId": "84d43591-1cd4-4ea4-cbd2-8ef853c8e389"
      },
      "execution_count": 2,
      "outputs": [
        {
          "output_type": "stream",
          "name": "stdout",
          "text": [
            "--2025-04-02 07:26:26--  https://raw.githubusercontent.com/vighc/SupplyChainData/main/Pan%20Pacific%20-Input%20Data.xlsx\n",
            "Resolving raw.githubusercontent.com (raw.githubusercontent.com)... 185.199.111.133, 185.199.108.133, 185.199.109.133, ...\n",
            "Connecting to raw.githubusercontent.com (raw.githubusercontent.com)|185.199.111.133|:443... connected.\n",
            "HTTP request sent, awaiting response... 200 OK\n",
            "Length: 16086 (16K) [application/octet-stream]\n",
            "Saving to: ‘Pan Pacific -Input Data.xlsx’\n",
            "\n",
            "Pan Pacific -Input  100%[===================>]  15.71K  --.-KB/s    in 0.001s  \n",
            "\n",
            "2025-04-02 07:26:26 (11.3 MB/s) - ‘Pan Pacific -Input Data.xlsx’ saved [16086/16086]\n",
            "\n"
          ]
        }
      ]
    },
    {
      "cell_type": "code",
      "source": [
        "import pandas as ps\n",
        "from pyspark.sql import SparkSession\n",
        "from pyspark.sql import functions as F\n",
        "from pyspark.sql.window import Window\n",
        "\n",
        "# Initialize Spark Session\n",
        "spark = SparkSession.builder.appName(\"ReadExcel\").getOrCreate()\n",
        "\n",
        "# Read Excel File\n",
        "pdf = ps.read_excel(\"/content/Pan Pacific -Input Data.xlsx\")\n",
        "df = spark.createDataFrame(pdf)\n",
        "\n",
        "# Replace NaN Values\n",
        "df = df.replace(\"NaN\", None)\n",
        "df.show()"
      ],
      "metadata": {
        "colab": {
          "base_uri": "https://localhost:8080/"
        },
        "id": "idh5HLVB0sE_",
        "outputId": "799805ed-a6c2-4d6f-c4b0-f3500fc64d88"
      },
      "execution_count": 3,
      "outputs": [
        {
          "output_type": "stream",
          "name": "stdout",
          "text": [
            "+-----+--------------------+--------------------+----------------+---------------+-----+----------+-----------+-----------+-------+\n",
            "| Code|                Name|            Address1|        Address2|           City|State|       Zip|Salesperson|Home Branch|   Type|\n",
            "+-----+--------------------+--------------------+----------------+---------------+-----+----------+-----------+-----------+-------+\n",
            "|32604|PAN-PACIFIC PLUMB...|     18250 EUCLID ST|            NULL|FOUNTAIN VALLEY|   CA|92708-6175|      STANR|       LASF|Bill To|\n",
            "|43861|PAN PACIFIC / EUC...| 18250 EUCLID STREET|            NULL|FOUNTAIN VALLEY|   CA|92708-6112|      STANR|       LASF|Ship To|\n",
            "|59835|PAN PACIFIC / FAB...|    18050 NEWHOPE ST|            NULL|FOUNTAIN VALLEY|   CA|92708-6130|      STANR|       LASF|Ship To|\n",
            "|60064|PAN-PACIFIC / WIL...|    1001 YOSEMITE DR|            NULL|       MILPITAS|   CA|95035-5409|    CCASTRO|        MIL|Ship To|\n",
            "|60085|PAN-PACIFIC / KAI...|945 BALDWIN PARK ...|            NULL|   BALDWIN PARK|   CA|91706-5803|      STANR|       LASF|Ship To|\n",
            "|60327|PAN-PACIFIC / LAX...|8250 WESTCHESTER ...|            NULL|    LOS ANGELES|   CA|     90045|      STANR|       LASF|Ship To|\n",
            "|60773|PAN PACIFIC / LAX...|        6100 96TH ST|            NULL|    LOS ANGELES|   CA|     90045|      STANR|       LASF|Ship To|\n",
            "|61131|PAN-PACIFIC / FRE...|  48363 FREMONT BLVD|            NULL|        FREMONT|   CA|94538-6580|   ANTHONYS|        MIL|Ship To|\n",
            "|61356|PAN-PACIFIC / KAI...| 3562 PARK SIERRA DR|            NULL|      RIVERSIDE|   CA|     92505|      STANR|       LASF|Ship To|\n",
            "|61489|PAN PACIFIC / LAX...|        6100 96TH ST|            NULL|    LOS ANGELES|   CA|     90045|      STANR|       LASF|Ship To|\n",
            "|61845|PAN-PACIFIC / NOR...|1 SPACE PARK BLVD...|            NULL|  REDONDO BEACH|   CA|90278-1001|      STANR|       LASF|Ship To|\n",
            "|63189|PAN PACIFIC / CIT...|    15161 ALTON PKWY|            NULL|         IRVINE|   CA|92618-2300|      STANR|       LASF|Ship To|\n",
            "|64487|PAN-PACIFIC / NBC...|444 UNIVERSAL HOL...|            NULL| UNIVERSAL CITY|   CA|     91608|      STANR|       LASF|Ship To|\n",
            "|64570|PAN PACIFIC / NOR...|1 SPACE PARK BLVD...|            NULL|  REDONDO BEACH|   CA|90278-1001|      STANR|       LASF|Ship To|\n",
            "|65119|PAN PACIFIC / NEW...|2373 TELLER RD ST...|            NULL|   NEWBURY PARK|   CA|     92626|      STANR|       LASF|Ship To|\n",
            "|65737|PAN PACIFIC / UCI...| 19148 JAMBOREE ROAD|            NULL|         IRVINE|   CA|     92612|      STANR|       LASF|Ship To|\n",
            "|66346|PAN PACIFIC / CAL...|           JOB 21020|410 S WILSON AVE|       PASADENA|   CA|91125-0001|      STANR|       LASF|Ship To|\n",
            "|66387|PAN PACIFIC / CAL...|           JOB 21020|    410 S WILSON|       PASADENA|   CA|91125-0001|      STANR|       LASF|Ship To|\n",
            "|66720|PAN PACIFIC / LAX...|        6100 96TH ST|            NULL|    LOS ANGELES|   CA|     90045|      STANR|       LASF|Ship To|\n",
            "|66721|PAN PACIFIC / LAX...|        6100 96TH ST|            NULL|    LOS ANGELES|   CA|     90045|      STANR|       LASF|Ship To|\n",
            "+-----+--------------------+--------------------+----------------+---------------+-----+----------+-----------+-----------+-------+\n",
            "only showing top 20 rows\n",
            "\n"
          ]
        }
      ]
    },
    {
      "cell_type": "code",
      "source": [
        "# Create Customer DataFrame\n",
        "customer_df = df.filter(F.col(\"Type\")==\"Bill To\").select(\n",
        "    F.lit(\"12345\").alias(\"id\"),\n",
        "    F.col(\"Name\").alias(\"name\"),\n",
        "    F.col(\"Code\").alias(\"account_number\"),\n",
        "    F.lit(\"{xyz.com}\").alias(\"domain_name\"),\n",
        "    F.lit(\"xyz\").alias(\"tenant_id\")\n",
        ")\n",
        "customer_df.show()"
      ],
      "metadata": {
        "colab": {
          "base_uri": "https://localhost:8080/"
        },
        "id": "3jx-ZP3gaepN",
        "outputId": "ceb09c33-fd3b-4847-ef4e-c757411295b9"
      },
      "execution_count": 4,
      "outputs": [
        {
          "output_type": "stream",
          "name": "stdout",
          "text": [
            "+-----+--------------------+--------------+-----------+---------+\n",
            "|   id|                name|account_number|domain_name|tenant_id|\n",
            "+-----+--------------------+--------------+-----------+---------+\n",
            "|12345|PAN-PACIFIC PLUMB...|         32604|  {xyz.com}|      xyz|\n",
            "+-----+--------------------+--------------+-----------+---------+\n",
            "\n"
          ]
        }
      ]
    },
    {
      "cell_type": "code",
      "source": [
        "# Create Invoice DataFrame\n",
        "invoice_df = df.join(customer_df.drop('name'), F.col('Code') == F.col('account_number'), 'inner').withColumn(\"Type\", F.regexp_replace(F.col(\"Type\"), \"Bill\", \"Ship\"))\n",
        "\n",
        "# Create Ship To DataFrame\n",
        "shipto_df = df.join(customer_df.drop('name'), F.col('Type') == F.lit('Ship To'), 'inner')\n",
        "\n",
        "# Create Bill To DataFrame\n",
        "billto_df = df.join(customer_df.drop('name'), F.col('Code') == F.col('account_number'), 'inner').withColumn(\"Code\", F.lit(None))\n",
        "\n",
        "# Combine DataFrames\n",
        "outputData_Union_df = invoice_df.union(shipto_df)\n",
        "outputData_Union_df = outputData_Union_df.union(billto_df)\n",
        "outputData_Union_df.show()"
      ],
      "metadata": {
        "colab": {
          "base_uri": "https://localhost:8080/"
        },
        "id": "2lNOwiLqyX5U",
        "outputId": "c951b7c5-ccae-4229-dd21-0510f490e50e"
      },
      "execution_count": 5,
      "outputs": [
        {
          "output_type": "stream",
          "name": "stdout",
          "text": [
            "+-----+--------------------+--------------------+----------------+---------------+-----+----------+-----------+-----------+-------+-----+--------------+-----------+---------+\n",
            "| Code|                Name|            Address1|        Address2|           City|State|       Zip|Salesperson|Home Branch|   Type|   id|account_number|domain_name|tenant_id|\n",
            "+-----+--------------------+--------------------+----------------+---------------+-----+----------+-----------+-----------+-------+-----+--------------+-----------+---------+\n",
            "|32604|PAN-PACIFIC PLUMB...|     18250 EUCLID ST|            NULL|FOUNTAIN VALLEY|   CA|92708-6175|      STANR|       LASF|Ship To|12345|         32604|  {xyz.com}|      xyz|\n",
            "|43861|PAN PACIFIC / EUC...| 18250 EUCLID STREET|            NULL|FOUNTAIN VALLEY|   CA|92708-6112|      STANR|       LASF|Ship To|12345|         32604|  {xyz.com}|      xyz|\n",
            "|59835|PAN PACIFIC / FAB...|    18050 NEWHOPE ST|            NULL|FOUNTAIN VALLEY|   CA|92708-6130|      STANR|       LASF|Ship To|12345|         32604|  {xyz.com}|      xyz|\n",
            "|60064|PAN-PACIFIC / WIL...|    1001 YOSEMITE DR|            NULL|       MILPITAS|   CA|95035-5409|    CCASTRO|        MIL|Ship To|12345|         32604|  {xyz.com}|      xyz|\n",
            "|60085|PAN-PACIFIC / KAI...|945 BALDWIN PARK ...|            NULL|   BALDWIN PARK|   CA|91706-5803|      STANR|       LASF|Ship To|12345|         32604|  {xyz.com}|      xyz|\n",
            "|60327|PAN-PACIFIC / LAX...|8250 WESTCHESTER ...|            NULL|    LOS ANGELES|   CA|     90045|      STANR|       LASF|Ship To|12345|         32604|  {xyz.com}|      xyz|\n",
            "|60773|PAN PACIFIC / LAX...|        6100 96TH ST|            NULL|    LOS ANGELES|   CA|     90045|      STANR|       LASF|Ship To|12345|         32604|  {xyz.com}|      xyz|\n",
            "|61131|PAN-PACIFIC / FRE...|  48363 FREMONT BLVD|            NULL|        FREMONT|   CA|94538-6580|   ANTHONYS|        MIL|Ship To|12345|         32604|  {xyz.com}|      xyz|\n",
            "|61356|PAN-PACIFIC / KAI...| 3562 PARK SIERRA DR|            NULL|      RIVERSIDE|   CA|     92505|      STANR|       LASF|Ship To|12345|         32604|  {xyz.com}|      xyz|\n",
            "|61489|PAN PACIFIC / LAX...|        6100 96TH ST|            NULL|    LOS ANGELES|   CA|     90045|      STANR|       LASF|Ship To|12345|         32604|  {xyz.com}|      xyz|\n",
            "|61845|PAN-PACIFIC / NOR...|1 SPACE PARK BLVD...|            NULL|  REDONDO BEACH|   CA|90278-1001|      STANR|       LASF|Ship To|12345|         32604|  {xyz.com}|      xyz|\n",
            "|63189|PAN PACIFIC / CIT...|    15161 ALTON PKWY|            NULL|         IRVINE|   CA|92618-2300|      STANR|       LASF|Ship To|12345|         32604|  {xyz.com}|      xyz|\n",
            "|64487|PAN-PACIFIC / NBC...|444 UNIVERSAL HOL...|            NULL| UNIVERSAL CITY|   CA|     91608|      STANR|       LASF|Ship To|12345|         32604|  {xyz.com}|      xyz|\n",
            "|64570|PAN PACIFIC / NOR...|1 SPACE PARK BLVD...|            NULL|  REDONDO BEACH|   CA|90278-1001|      STANR|       LASF|Ship To|12345|         32604|  {xyz.com}|      xyz|\n",
            "|65119|PAN PACIFIC / NEW...|2373 TELLER RD ST...|            NULL|   NEWBURY PARK|   CA|     92626|      STANR|       LASF|Ship To|12345|         32604|  {xyz.com}|      xyz|\n",
            "|65737|PAN PACIFIC / UCI...| 19148 JAMBOREE ROAD|            NULL|         IRVINE|   CA|     92612|      STANR|       LASF|Ship To|12345|         32604|  {xyz.com}|      xyz|\n",
            "|66346|PAN PACIFIC / CAL...|           JOB 21020|410 S WILSON AVE|       PASADENA|   CA|91125-0001|      STANR|       LASF|Ship To|12345|         32604|  {xyz.com}|      xyz|\n",
            "|66387|PAN PACIFIC / CAL...|           JOB 21020|    410 S WILSON|       PASADENA|   CA|91125-0001|      STANR|       LASF|Ship To|12345|         32604|  {xyz.com}|      xyz|\n",
            "|66720|PAN PACIFIC / LAX...|        6100 96TH ST|            NULL|    LOS ANGELES|   CA|     90045|      STANR|       LASF|Ship To|12345|         32604|  {xyz.com}|      xyz|\n",
            "|66721|PAN PACIFIC / LAX...|        6100 96TH ST|            NULL|    LOS ANGELES|   CA|     90045|      STANR|       LASF|Ship To|12345|         32604|  {xyz.com}|      xyz|\n",
            "+-----+--------------------+--------------------+----------------+---------------+-----+----------+-----------+-----------+-------+-----+--------------+-----------+---------+\n",
            "only showing top 20 rows\n",
            "\n"
          ]
        }
      ]
    },
    {
      "cell_type": "code",
      "source": [
        "# Mapping to Standard Layout\n",
        "outputData_df = outputData_Union_df.withColumn('InputId', F.row_number().over(Window.orderBy(F.col(\"Code\").asc_nulls_last()))) \\\n",
        "    .withColumn('country', F.when(F.col('Zip').contains('-'), \"US\").otherwise(\"USA\")) \\\n",
        "    .withColumn('type', F.lower(F.regexp_replace(F.concat(F.lit(\"customer_\"), F.col(\"Type\")), ' ', '')))\n",
        "\n",
        "outputData_df = outputData_df.select(\n",
        "    F.col(\"InputId\").alias(\"id\"),\n",
        "    F.col(\"Name\").alias(\"name\"),\n",
        "    F.col(\"Address1\").alias(\"address_1\"),\n",
        "    F.col(\"Address2\").alias(\"address_2\"),\n",
        "    F.lit(None).alias(\"address_3\"),\n",
        "    F.col(\"City\").alias(\"city\"),\n",
        "    F.col(\"State\").alias(\"state\"),\n",
        "    \"country\",\n",
        "    F.col(\"Zip\").alias(\"zip\"),\n",
        "    F.col(\"tenant_id\").alias(\"tenant_id\"),\n",
        "    F.lit(\"FALSE\").alias(\"deleted\"),\n",
        "    F.col(\"Type\").alias(\"type\"),\n",
        "    F.col(\"Code\").alias(\"shipto_no\"),\n",
        "    F.col(\"id\").alias(\"customer_id\"),\n",
        ")\n",
        "outputData_df.show()"
      ],
      "metadata": {
        "colab": {
          "base_uri": "https://localhost:8080/"
        },
        "id": "DoZQ2PkzGjP9",
        "outputId": "ad191c1f-0fb3-48c8-9037-562329bc89c0"
      },
      "execution_count": 6,
      "outputs": [
        {
          "output_type": "stream",
          "name": "stdout",
          "text": [
            "+---+--------------------+--------------------+----------------+---------+---------------+-----+-------+----------+---------+-------+---------------+---------+-----------+\n",
            "| id|                name|           address_1|       address_2|address_3|           city|state|country|       zip|tenant_id|deleted|           type|shipto_no|customer_id|\n",
            "+---+--------------------+--------------------+----------------+---------+---------------+-----+-------+----------+---------+-------+---------------+---------+-----------+\n",
            "|  1|PAN-PACIFIC PLUMB...|     18250 EUCLID ST|            NULL|     NULL|FOUNTAIN VALLEY|   CA|     US|92708-6175|      xyz|  FALSE|customer_shipto|    32604|      12345|\n",
            "|  2|PAN PACIFIC / EUC...| 18250 EUCLID STREET|            NULL|     NULL|FOUNTAIN VALLEY|   CA|     US|92708-6112|      xyz|  FALSE|customer_shipto|    43861|      12345|\n",
            "|  3|PAN PACIFIC / FAB...|    18050 NEWHOPE ST|            NULL|     NULL|FOUNTAIN VALLEY|   CA|     US|92708-6130|      xyz|  FALSE|customer_shipto|    59835|      12345|\n",
            "|  4|PAN-PACIFIC / WIL...|    1001 YOSEMITE DR|            NULL|     NULL|       MILPITAS|   CA|     US|95035-5409|      xyz|  FALSE|customer_shipto|    60064|      12345|\n",
            "|  5|PAN-PACIFIC / KAI...|945 BALDWIN PARK ...|            NULL|     NULL|   BALDWIN PARK|   CA|     US|91706-5803|      xyz|  FALSE|customer_shipto|    60085|      12345|\n",
            "|  6|PAN-PACIFIC / LAX...|8250 WESTCHESTER ...|            NULL|     NULL|    LOS ANGELES|   CA|    USA|     90045|      xyz|  FALSE|customer_shipto|    60327|      12345|\n",
            "|  7|PAN PACIFIC / LAX...|        6100 96TH ST|            NULL|     NULL|    LOS ANGELES|   CA|    USA|     90045|      xyz|  FALSE|customer_shipto|    60773|      12345|\n",
            "|  8|PAN-PACIFIC / FRE...|  48363 FREMONT BLVD|            NULL|     NULL|        FREMONT|   CA|     US|94538-6580|      xyz|  FALSE|customer_shipto|    61131|      12345|\n",
            "|  9|PAN-PACIFIC / KAI...| 3562 PARK SIERRA DR|            NULL|     NULL|      RIVERSIDE|   CA|    USA|     92505|      xyz|  FALSE|customer_shipto|    61356|      12345|\n",
            "| 10|PAN PACIFIC / LAX...|        6100 96TH ST|            NULL|     NULL|    LOS ANGELES|   CA|    USA|     90045|      xyz|  FALSE|customer_shipto|    61489|      12345|\n",
            "| 11|PAN-PACIFIC / NOR...|1 SPACE PARK BLVD...|            NULL|     NULL|  REDONDO BEACH|   CA|     US|90278-1001|      xyz|  FALSE|customer_shipto|    61845|      12345|\n",
            "| 12|PAN PACIFIC / CIT...|    15161 ALTON PKWY|            NULL|     NULL|         IRVINE|   CA|     US|92618-2300|      xyz|  FALSE|customer_shipto|    63189|      12345|\n",
            "| 13|PAN-PACIFIC / NBC...|444 UNIVERSAL HOL...|            NULL|     NULL| UNIVERSAL CITY|   CA|    USA|     91608|      xyz|  FALSE|customer_shipto|    64487|      12345|\n",
            "| 14|PAN PACIFIC / NOR...|1 SPACE PARK BLVD...|            NULL|     NULL|  REDONDO BEACH|   CA|     US|90278-1001|      xyz|  FALSE|customer_shipto|    64570|      12345|\n",
            "| 15|PAN PACIFIC / NEW...|2373 TELLER RD ST...|            NULL|     NULL|   NEWBURY PARK|   CA|    USA|     92626|      xyz|  FALSE|customer_shipto|    65119|      12345|\n",
            "| 16|PAN PACIFIC / UCI...| 19148 JAMBOREE ROAD|            NULL|     NULL|         IRVINE|   CA|    USA|     92612|      xyz|  FALSE|customer_shipto|    65737|      12345|\n",
            "| 17|PAN PACIFIC / CAL...|           JOB 21020|410 S WILSON AVE|     NULL|       PASADENA|   CA|     US|91125-0001|      xyz|  FALSE|customer_shipto|    66346|      12345|\n",
            "| 18|PAN PACIFIC / CAL...|           JOB 21020|    410 S WILSON|     NULL|       PASADENA|   CA|     US|91125-0001|      xyz|  FALSE|customer_shipto|    66387|      12345|\n",
            "| 19|PAN PACIFIC / LAX...|        6100 96TH ST|            NULL|     NULL|    LOS ANGELES|   CA|    USA|     90045|      xyz|  FALSE|customer_shipto|    66720|      12345|\n",
            "| 20|PAN PACIFIC / LAX...|        6100 96TH ST|            NULL|     NULL|    LOS ANGELES|   CA|    USA|     90045|      xyz|  FALSE|customer_shipto|    66721|      12345|\n",
            "+---+--------------------+--------------------+----------------+---------+---------------+-----+-------+----------+---------+-------+---------------+---------+-----------+\n",
            "only showing top 20 rows\n",
            "\n"
          ]
        }
      ]
    },
    {
      "cell_type": "code",
      "source": [
        "# Convert to Pandas DataFrames\n",
        "outputData_pd = outputData_df.toPandas()\n",
        "customer_pd = customer_df.toPandas()\n",
        "\n",
        "# Write to Excel\n",
        "excel_path = \"panpacific_outputData.xlsx\"\n",
        "with ps.ExcelWriter(excel_path, engine='xlsxwriter') as writer:\n",
        "    outputData_pd.to_excel(writer, sheet_name=\"outputData\", index=False)\n",
        "    customer_pd.to_excel(writer, sheet_name=\"customer\", index=False)"
      ],
      "metadata": {
        "id": "hIBCEOa5EsT-"
      },
      "execution_count": 7,
      "outputs": []
    }
  ]
}